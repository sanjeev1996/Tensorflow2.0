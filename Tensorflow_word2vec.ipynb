{
  "nbformat": 4,
  "nbformat_minor": 0,
  "metadata": {
    "colab": {
      "name": "Tensorflow-word2vec.ipynb",
      "provenance": [],
      "collapsed_sections": [],
      "authorship_tag": "ABX9TyOxyPRNYeWj35BMkB07pdEn",
      "include_colab_link": true
    },
    "kernelspec": {
      "name": "python3",
      "display_name": "Python 3"
    },
    "accelerator": "GPU"
  },
  "cells": [
    {
      "cell_type": "markdown",
      "metadata": {
        "id": "view-in-github",
        "colab_type": "text"
      },
      "source": [
        "<a href=\"https://colab.research.google.com/github/sanjeev1996/Tensorflow2.0/blob/master/Tensorflow_word2vec.ipynb\" target=\"_parent\"><img src=\"https://colab.research.google.com/assets/colab-badge.svg\" alt=\"Open In Colab\"/></a>"
      ]
    },
    {
      "cell_type": "code",
      "metadata": {
        "id": "aC9N9q1BqNFt",
        "colab_type": "code",
        "colab": {}
      },
      "source": [
        "!pip install tensorflow==2.0.0"
      ],
      "execution_count": 0,
      "outputs": []
    },
    {
      "cell_type": "code",
      "metadata": {
        "id": "SlniPJC1597A",
        "colab_type": "code",
        "colab": {
          "base_uri": "https://localhost:8080/",
          "height": 34
        },
        "outputId": "8b35a522-2ee5-45d0-ac04-2b3be7b9554f"
      },
      "source": [
        "import collections\n",
        "import os\n",
        "import random\n",
        "import urllib\n",
        "import zipfile\n",
        "import numpy as np\n",
        "import tensorflow as tf\n",
        "print(tf.__version__)"
      ],
      "execution_count": 15,
      "outputs": [
        {
          "output_type": "stream",
          "text": [
            "2.0.0\n"
          ],
          "name": "stdout"
        }
      ]
    },
    {
      "cell_type": "code",
      "metadata": {
        "id": "9HYumRjsqgti",
        "colab_type": "code",
        "colab": {}
      },
      "source": [
        "# Training Parameters.\n",
        "learning_rate = 0.1\n",
        "batch_size = 128\n",
        "num_steps = 3000000\n",
        "display_step = 10000\n",
        "eval_step = 200000\n",
        "\n",
        "# Evaluation Parameters.\n",
        "eval_words = ['of', 'going', 'hardware', 'american', 'britain']\n",
        "\n",
        "# Word2Vec Parameters.\n",
        "embedding_size = 200 # Dimension of the embedding vector.\n",
        "max_vocabulary_size = 50000 # Total number of different words in the vocabulary.\n",
        "min_occurrence = 10 # Remove all words that does not appears at least n times.\n",
        "skip_window = 3 # How many words to consider left and right.\n",
        "num_skips = 2 # How many times to reuse an input to generate a label.\n",
        "num_sampled = 64 # Number of negative examples to sample."
      ],
      "execution_count": 0,
      "outputs": []
    },
    {
      "cell_type": "code",
      "metadata": {
        "id": "kb45Vj8xzq4t",
        "colab_type": "code",
        "colab": {}
      },
      "source": [
        "# Download a small chunk of Wikipedia articles collection.\n",
        "url = 'http://mattmahoney.net/dc/text8.zip'\n",
        "data_path = 'text8.zip'\n",
        "if not os.path.exists(data_path):\n",
        "    print(\"Downloading the dataset... (It may take some time)\")\n",
        "    filename, _ = urllib.urlretrieve(url, data_path)\n",
        "    print(\"Done!\")\n",
        "# Unzip the dataset file. Text has already been processed.\n",
        "with zipfile.ZipFile(data_path) as f:\n",
        "    text_words = f.read(f.namelist()[0]).lower().split()"
      ],
      "execution_count": 0,
      "outputs": []
    },
    {
      "cell_type": "code",
      "metadata": {
        "id": "efHGq7u72Va1",
        "colab_type": "code",
        "colab": {
          "base_uri": "https://localhost:8080/",
          "height": 105
        },
        "outputId": "6f387aeb-fe4a-458e-8cf5-44a19243e297"
      },
      "source": [
        "# Build the dictionary and replace rare words with UNK token.\n",
        "count = [('UNK', -1)]\n",
        "# Retrieve the most common words.\n",
        "count.extend(collections.Counter(text_words).most_common(max_vocabulary_size - 1))\n",
        "# Remove samples with less than 'min_occurrence' occurrences.\n",
        "for i in range(len(count) - 1, -1, -1):\n",
        "    if count[i][1] < min_occurrence:\n",
        "        count.pop(i)\n",
        "    else:\n",
        "        # The collection is ordered, so stop when 'min_occurrence' is reached.\n",
        "        break\n",
        "# Compute the vocabulary size.\n",
        "vocabulary_size = len(count)\n",
        "# Assign an id to each word.\n",
        "word2id = dict()\n",
        "for i, (word, _)in enumerate(count):\n",
        "    word2id[word] = i\n",
        "\n",
        "data = list()\n",
        "unk_count = 0\n",
        "for word in text_words:\n",
        "    # Retrieve a word id, or assign it index 0 ('UNK') if not in dictionary.\n",
        "    index = word2id.get(word, 0)\n",
        "    if index == 0:\n",
        "        unk_count += 1\n",
        "    data.append(index)\n",
        "count[0] = ('UNK', unk_count)\n",
        "id2word = dict(zip(word2id.values(), word2id.keys()))\n",
        "\n",
        "print(\"Words count:\", len(text_words))\n",
        "print(\"Unique words:\", len(set(text_words)))\n",
        "print(\"Vocabulary size:\", vocabulary_size)\n",
        "print(\"Most common words:\", count[:10])\n"
      ],
      "execution_count": 25,
      "outputs": [
        {
          "output_type": "stream",
          "text": [
            "Words count: 17005207\n",
            "Unique words: 253854\n",
            "Vocabulary size: 47135\n",
            "Most common words: [('UNK', 444176), (b'the', 1061396), (b'of', 593677), (b'and', 416629), (b'one', 411764), (b'in', 372201), (b'a', 325873), (b'to', 316376), (b'zero', 264975), (b'nine', 250430)]\n"
          ],
          "name": "stdout"
        }
      ]
    },
    {
      "cell_type": "code",
      "metadata": {
        "id": "D9OUglv5NOL7",
        "colab_type": "code",
        "colab": {}
      },
      "source": [
        "data_index = 0\n",
        "# Generate training batch for the skip-gram model.\n",
        "def next_batch(batch_size, num_skips, skip_window):\n",
        "    global data_index\n",
        "    assert batch_size % num_skips == 0\n",
        "    assert num_skips <= 2 * skip_window\n",
        "    batch = np.ndarray(shape=(batch_size), dtype=np.int32)\n",
        "    labels = np.ndarray(shape=(batch_size, 1), dtype=np.int32)\n",
        "    # get window size (words left and right + current one).\n",
        "    span = 2 * skip_window + 1\n",
        "    buffer = collections.deque(maxlen=span)\n",
        "    if data_index + span > len(data):\n",
        "        data_index = 0\n",
        "    buffer.extend(data[data_index:data_index + span])\n",
        "    data_index += span\n",
        "    for i in range(batch_size // num_skips):\n",
        "        context_words = [w for w in range(span) if w != skip_window]\n",
        "        words_to_use = random.sample(context_words, num_skips)\n",
        "        for j, context_word in enumerate(words_to_use):\n",
        "            batch[i * num_skips + j] = buffer[skip_window]\n",
        "            labels[i * num_skips + j, 0] = buffer[context_word]\n",
        "        if data_index == len(data):\n",
        "            buffer.extend(data[0:span])\n",
        "            data_index = span\n",
        "        else:\n",
        "            buffer.append(data[data_index])\n",
        "            data_index += 1\n",
        "    # Backtrack a little bit to avoid skipping words in the end of a batch.\n",
        "    data_index = (data_index + len(data) - span) % len(data)\n",
        "    return batch, labels"
      ],
      "execution_count": 0,
      "outputs": []
    },
    {
      "cell_type": "code",
      "metadata": {
        "id": "Z9psWSA39a51",
        "colab_type": "code",
        "colab": {}
      },
      "source": [
        "# Ensure the following ops & var are assigned on CPU\n",
        "# (some ops are not compatible on GPU).\n",
        "with tf.device('/cpu:0'):\n",
        "    # Create the embedding variable (each row represent a word embedding vector).\n",
        "    embedding = tf.Variable(tf.random.normal([vocabulary_size, embedding_size]))\n",
        "    # Construct the variables for the NCE loss.\n",
        "    nce_weights = tf.Variable(tf.random.normal([vocabulary_size, embedding_size]))\n",
        "    nce_biases = tf.Variable(tf.zeros([vocabulary_size]))\n",
        "\n",
        "def get_embedding(x):\n",
        "    with tf.device('/cpu:0'):\n",
        "        # Lookup the corresponding embedding vectors for each sample in X.\n",
        "        x_embed = tf.nn.embedding_lookup(embedding, x)\n",
        "        return x_embed\n",
        "\n",
        "def nce_loss(x_embed, y):\n",
        "    with tf.device('/cpu:0'):\n",
        "        # Compute the average NCE loss for the batch.\n",
        "        y = tf.cast(y, tf.int64)\n",
        "        loss = tf.reduce_mean(\n",
        "            tf.nn.nce_loss(weights=nce_weights,\n",
        "                           biases=nce_biases,\n",
        "                           labels=y,\n",
        "                           inputs=x_embed,\n",
        "                           num_sampled=num_sampled,\n",
        "                           num_classes=vocabulary_size))\n",
        "        return loss\n",
        "\n",
        "# Evaluation.\n",
        "def evaluate(x_embed):\n",
        "    with tf.device('/cpu:0'):\n",
        "        # Compute the cosine similarity between input data embedding and every embedding vectors\n",
        "        x_embed = tf.cast(x_embed, tf.float32)\n",
        "        x_embed_norm = x_embed / tf.sqrt(tf.reduce_sum(tf.square(x_embed)))\n",
        "        embedding_norm = embedding / tf.sqrt(tf.reduce_sum(tf.square(embedding), 1, keepdims=True), tf.float32)\n",
        "        cosine_sim_op = tf.matmul(x_embed_norm, embedding_norm, transpose_b=True)\n",
        "        return cosine_sim_op\n",
        "\n",
        "# Define the optimizer.\n",
        "optimizer = tf.optimizers.SGD(learning_rate)"
      ],
      "execution_count": 0,
      "outputs": []
    },
    {
      "cell_type": "code",
      "metadata": {
        "id": "8RextV4j_EtM",
        "colab_type": "code",
        "colab": {}
      },
      "source": [
        "# Optimization process. \n",
        "def run_optimization(x, y):\n",
        "    with tf.device('/cpu:0'):\n",
        "        # Wrap computation inside a GradientTape for automatic differentiation.\n",
        "        with tf.GradientTape() as g:\n",
        "            emb = get_embedding(x)\n",
        "            loss = nce_loss(emb, y)\n",
        "\n",
        "        # Compute gradients.\n",
        "        gradients = g.gradient(loss, [embedding, nce_weights, nce_biases])\n",
        "\n",
        "        # Update W and b following gradients.\n",
        "        optimizer.apply_gradients(zip(gradients, [embedding, nce_weights, nce_biases]))"
      ],
      "execution_count": 0,
      "outputs": []
    },
    {
      "cell_type": "code",
      "metadata": {
        "id": "8WxIWah4_FlD",
        "colab_type": "code",
        "colab": {}
      },
      "source": [
        "# Words for testing.\n",
        "x_test = np.array([word2id[w] for w in eval_words])\n",
        "\n",
        "# Run training for the given number of steps.\n",
        "for step in xrange(1, num_steps + 1):\n",
        "    batch_x, batch_y = next_batch(batch_size, num_skips, skip_window)\n",
        "    run_optimization(batch_x, batch_y)\n",
        "    \n",
        "    if step % display_step == 0 or step == 1:\n",
        "        loss = nce_loss(get_embedding(batch_x), batch_y)\n",
        "        print(\"step: %i, loss: %f\" % (step, loss))\n",
        "        \n",
        "    # Evaluation.\n",
        "    if step % eval_step == 0 or step == 1:\n",
        "        print(\"Evaluation...\")\n",
        "        sim = evaluate(get_embedding(x_test)).numpy()\n",
        "        for i in xrange(len(eval_words)):\n",
        "            top_k = 8  # number of nearest neighbors.\n",
        "            nearest = (-sim[i, :]).argsort()[1:top_k + 1]\n",
        "            log_str = '\"%s\" nearest neighbors:' % eval_words[i]\n",
        "            for k in xrange(top_k):\n",
        "                log_str = '%s %s,' % (log_str, id2word[nearest[k]])\n",
        "            print(log_str)"
      ],
      "execution_count": 0,
      "outputs": []
    }
  ]
}