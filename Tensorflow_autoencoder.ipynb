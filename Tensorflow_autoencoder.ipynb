{
  "nbformat": 4,
  "nbformat_minor": 0,
  "metadata": {
    "colab": {
      "name": "Tensorflow-autoencoder.ipynb",
      "provenance": [],
      "authorship_tag": "ABX9TyNDr2TXyphD1L0TbXwWnjak",
      "include_colab_link": true
    },
    "kernelspec": {
      "name": "python3",
      "display_name": "Python 3"
    },
    "accelerator": "GPU"
  },
  "cells": [
    {
      "cell_type": "markdown",
      "metadata": {
        "id": "view-in-github",
        "colab_type": "text"
      },
      "source": [
        "<a href=\"https://colab.research.google.com/github/sanjeev1996/Tensorflow2.0/blob/master/Tensorflow_autoencoder.ipynb\" target=\"_parent\"><img src=\"https://colab.research.google.com/assets/colab-badge.svg\" alt=\"Open In Colab\"/></a>"
      ]
    },
    {
      "cell_type": "code",
      "metadata": {
        "id": "CXz27TtALUT3",
        "colab_type": "code",
        "colab": {}
      },
      "source": [
        "!pip install tensorflow==2.0.0"
      ],
      "execution_count": 0,
      "outputs": []
    },
    {
      "cell_type": "code",
      "metadata": {
        "id": "00ycWlsLONEb",
        "colab_type": "code",
        "colab": {
          "base_uri": "https://localhost:8080/",
          "height": 34
        },
        "outputId": "c81e567f-7c52-4f68-b5dc-24ec80355df0"
      },
      "source": [
        "import tensorflow as tf\n",
        "import numpy as np\n",
        "from __future__ import absolute_import, division, print_function\n",
        "print(tf.__version__)"
      ],
      "execution_count": 1,
      "outputs": [
        {
          "output_type": "stream",
          "text": [
            "2.0.0\n"
          ],
          "name": "stdout"
        }
      ]
    },
    {
      "cell_type": "code",
      "metadata": {
        "id": "KllRL6KQOm-6",
        "colab_type": "code",
        "colab": {}
      },
      "source": [
        "# MNIST Dataset parameters.\n",
        "num_features = 784 # data features (img shape: 28*28).\n",
        "\n",
        "# Training parameters.\n",
        "learning_rate = 0.01\n",
        "training_steps = 20000\n",
        "batch_size = 256\n",
        "display_step = 1000\n",
        "\n",
        "# Network Parameters\n",
        "num_hidden_1 = 128 # 1st layer num features.\n",
        "num_hidden_2 = 64 # 2nd layer num features (the latent dim)."
      ],
      "execution_count": 0,
      "outputs": []
    },
    {
      "cell_type": "code",
      "metadata": {
        "id": "3uAqhsnPPTwN",
        "colab_type": "code",
        "outputId": "dc8670a3-a1b9-42d4-c127-8b6bbd0297e5",
        "colab": {
          "base_uri": "https://localhost:8080/",
          "height": 51
        }
      },
      "source": [
        "# Prepare MNIST data.\n",
        "from tensorflow.keras.datasets import mnist\n",
        "(x_train, y_train), (x_test, y_test) = mnist.load_data()\n",
        "# Convert to float32.\n",
        "x_train, x_test = x_train.astype(np.float32), x_test.astype(np.float32)\n",
        "# Flatten images to 1-D vector of 784 features (28*28).\n",
        "x_train, x_test = x_train.reshape([-1, num_features]), x_test.reshape([-1, num_features])\n",
        "# Normalize images value from [0, 255] to [0, 1].\n",
        "x_train, x_test = x_train / 255., x_test / 255."
      ],
      "execution_count": 3,
      "outputs": [
        {
          "output_type": "stream",
          "text": [
            "Downloading data from https://storage.googleapis.com/tensorflow/tf-keras-datasets/mnist.npz\n",
            "11493376/11490434 [==============================] - 0s 0us/step\n"
          ],
          "name": "stdout"
        }
      ]
    },
    {
      "cell_type": "code",
      "metadata": {
        "id": "uPBY6iVTTxd_",
        "colab_type": "code",
        "colab": {}
      },
      "source": [
        "# Use tf.data API to shuffle and batch data.\n",
        "train_data = tf.data.Dataset.from_tensor_slices((x_train, y_train))\n",
        "train_data = train_data.repeat().shuffle(10000).batch(batch_size).prefetch(1)\n",
        "\n",
        "test_data = tf.data.Dataset.from_tensor_slices((x_test, y_test))\n",
        "test_data = test_data.repeat().batch(batch_size).prefetch(1)"
      ],
      "execution_count": 0,
      "outputs": []
    },
    {
      "cell_type": "code",
      "metadata": {
        "id": "Vde17OJWZUFT",
        "colab_type": "code",
        "colab": {}
      },
      "source": [
        "# Store layers weight & bias\n",
        "\n",
        "# A random value generator to initialize weights.\n",
        "random_normal = tf.initializers.RandomNormal()\n",
        "\n",
        "weights = {\n",
        "    'encoder_h1': tf.Variable(random_normal([num_features, num_hidden_1])),\n",
        "    'encoder_h2': tf.Variable(random_normal([num_hidden_1, num_hidden_2])),\n",
        "    'decoder_h1': tf.Variable(random_normal([num_hidden_2, num_hidden_1])),\n",
        "    'decoder_h2': tf.Variable(random_normal([num_hidden_1, num_features])),\n",
        "}\n",
        "biases = {\n",
        "    'encoder_b1': tf.Variable(random_normal([num_hidden_1])),\n",
        "    'encoder_b2': tf.Variable(random_normal([num_hidden_2])),\n",
        "    'decoder_b1': tf.Variable(random_normal([num_hidden_1])),\n",
        "    'decoder_b2': tf.Variable(random_normal([num_features])),\n",
        "}"
      ],
      "execution_count": 0,
      "outputs": []
    },
    {
      "cell_type": "code",
      "metadata": {
        "id": "Nkt3OTvzVeQy",
        "colab_type": "code",
        "colab": {
          "base_uri": "https://localhost:8080/",
          "height": 34
        },
        "outputId": "6b72c96a-6e02-4a87-e1d7-ec37608d1fc4"
      },
      "source": [
        "weights['encoder_h1'].shape"
      ],
      "execution_count": 6,
      "outputs": [
        {
          "output_type": "execute_result",
          "data": {
            "text/plain": [
              "TensorShape([784, 128])"
            ]
          },
          "metadata": {
            "tags": []
          },
          "execution_count": 6
        }
      ]
    },
    {
      "cell_type": "code",
      "metadata": {
        "id": "Nlohc4iPfnze",
        "colab_type": "code",
        "colab": {}
      },
      "source": [
        "# Building the encoder.\n",
        "def encoder(x):\n",
        "    # Encoder Hidden layer with sigmoid activation.\n",
        "    layer_1 = tf.nn.sigmoid(tf.add(tf.matmul(x, weights['encoder_h1']),\n",
        "                                   biases['encoder_b1']))\n",
        "    # Encoder Hidden layer with sigmoid activation.\n",
        "    layer_2 = tf.nn.sigmoid(tf.add(tf.matmul(layer_1, weights['encoder_h2']),\n",
        "                                   biases['encoder_b2']))\n",
        "    return layer_2\n",
        "\n",
        "\n",
        "# Building the decoder.\n",
        "def decoder(x):\n",
        "    # Decoder Hidden layer with sigmoid activation.\n",
        "    layer_1 = tf.nn.sigmoid(tf.add(tf.matmul(x, weights['decoder_h1']),\n",
        "                                   biases['decoder_b1']))\n",
        "    # Decoder Hidden layer with sigmoid activation.\n",
        "    layer_2 = tf.nn.sigmoid(tf.add(tf.matmul(layer_1, weights['decoder_h2']),\n",
        "                                   biases['decoder_b2']))\n",
        "    return layer_2"
      ],
      "execution_count": 0,
      "outputs": []
    },
    {
      "cell_type": "code",
      "metadata": {
        "id": "L1bHolkAh-Go",
        "colab_type": "code",
        "colab": {}
      },
      "source": [
        "# Mean square loss between original images and reconstructed ones.\n",
        "def mean_square(reconstructed, original):\n",
        "    return tf.reduce_mean(tf.pow(original - reconstructed, 2))\n",
        "\n",
        "# Adam optimizer.\n",
        "optimizer = tf.optimizers.Adam(learning_rate=learning_rate)"
      ],
      "execution_count": 0,
      "outputs": []
    },
    {
      "cell_type": "code",
      "metadata": {
        "id": "vt3VBoCbjWn0",
        "colab_type": "code",
        "colab": {}
      },
      "source": [
        "# Optimization process. \n",
        "def run_optimization(x):\n",
        "    # Wrap computation inside a GradientTape for automatic differentiation.\n",
        "    with tf.GradientTape() as g:\n",
        "        reconstructed_image = decoder(encoder(x))\n",
        "        loss = mean_square(reconstructed_image, x)\n",
        "\n",
        "    # Variables to update, i.e. trainable variables.\n",
        "    trainable_variables = list(weights.values()) + list(biases.values())\n",
        "    \n",
        "    # Compute gradients.\n",
        "    gradients = g.gradient(loss, trainable_variables)\n",
        "    \n",
        "    # Update W and b following gradients.\n",
        "    optimizer.apply_gradients(zip(gradients, trainable_variables))\n",
        "    \n",
        "    return loss"
      ],
      "execution_count": 0,
      "outputs": []
    },
    {
      "cell_type": "code",
      "metadata": {
        "id": "JPyX9D5u9N0D",
        "colab_type": "code",
        "outputId": "04004d82-f98e-4fda-82b8-c08052d78e4b",
        "colab": {
          "base_uri": "https://localhost:8080/",
          "height": 374
        }
      },
      "source": [
        "# Run training for the given number of steps.\n",
        "for step, (batch_x, _) in enumerate(train_data.take(training_steps + 1)):\n",
        "\n",
        "    \n",
        "    loss = run_optimization(batch_x)\n",
        "    \n",
        "    if step % display_step == 0:\n",
        "        print(\"step: %i, loss: %f\" % (step, loss))\n"
      ],
      "execution_count": 12,
      "outputs": [
        {
          "output_type": "stream",
          "text": [
            "step: 0, loss: 0.003723\n",
            "step: 1000, loss: 0.003460\n",
            "step: 2000, loss: 0.003238\n",
            "step: 3000, loss: 0.003386\n",
            "step: 4000, loss: 0.003455\n",
            "step: 5000, loss: 0.003438\n",
            "step: 6000, loss: 0.003364\n",
            "step: 7000, loss: 0.003247\n",
            "step: 8000, loss: 0.003502\n",
            "step: 9000, loss: 0.003351\n",
            "step: 10000, loss: 0.003617\n",
            "step: 11000, loss: 0.003228\n",
            "step: 12000, loss: 0.003094\n",
            "step: 13000, loss: 0.003446\n",
            "step: 14000, loss: 0.003002\n",
            "step: 15000, loss: 0.002981\n",
            "step: 16000, loss: 0.003150\n",
            "step: 17000, loss: 0.003087\n",
            "step: 18000, loss: 0.003154\n",
            "step: 19000, loss: 0.003205\n",
            "step: 20000, loss: 0.003296\n"
          ],
          "name": "stdout"
        }
      ]
    },
    {
      "cell_type": "code",
      "metadata": {
        "id": "JEE6VHXW95WC",
        "colab_type": "code",
        "outputId": "5d3f2a64-0ada-4d73-a817-075db8b5c7ec",
        "colab": {
          "base_uri": "https://localhost:8080/",
          "height": 540
        }
      },
      "source": [
        "# Encode and decode images from test set and visualize their reconstruction.\n",
        "import matplotlib.pyplot as plt\n",
        "n = 1\n",
        "canvas_orig = np.empty((28 * n, 28 * n))\n",
        "canvas_recon = np.empty((28 * n, 28 * n))\n",
        "for i, (batch_x, _) in enumerate(test_data.take(n)):\n",
        "    # Encode and decode the digit image.\n",
        "    reconstructed_images = decoder(encoder(batch_x))\n",
        "    # Display original images.\n",
        "    for j in range(n):\n",
        "        # Draw the generated digits.\n",
        "        img = batch_x[j].numpy().reshape([28, 28])\n",
        "        canvas_orig[i * 28:(i + 1) * 28, j * 28:(j + 1) * 28] = img\n",
        "    # Display reconstructed images.\n",
        "    for j in range(n):\n",
        "        # Draw the generated digits.\n",
        "        reconstr_img = reconstructed_images[j].numpy().reshape([28, 28])\n",
        "        canvas_recon[i * 28:(i + 1) * 28, j * 28:(j + 1) * 28] = reconstr_img\n",
        "\n",
        "\n",
        "\n",
        "#print(\"Reconstructed Images\")\n",
        "#plt.figure(figsize=(n, n))\n",
        "#plt.imshow(canvas_recon, origin=\"upper\", cmap=\"gray\")\n",
        "#plt.show()"
      ],
      "execution_count": 38,
      "outputs": [
        {
          "output_type": "stream",
          "text": [
            "Original Images\n"
          ],
          "name": "stdout"
        },
        {
          "output_type": "display_data",
          "data": {
            "image/png": "[encoded data removed]",
            "text/plain": [
              "<Figure size 72x72 with 1 Axes>"
            ]
          },
          "metadata": {
            "tags": []
          }
        },
        {
          "output_type": "stream",
          "text": [
            "Image After layer 1 Encoder\n"
          ],
          "name": "stdout"
        },
        {
          "output_type": "display_data",
          "data": {
            "image/png": "[encoded data removed]",
            "text/plain": [
              "<Figure size 72x72 with 1 Axes>"
            ]
          },
          "metadata": {
            "tags": []
          }
        },
        {
          "output_type": "stream",
          "text": [
            "Image After layer 2 Encoder\n"
          ],
          "name": "stdout"
        },
        {
          "output_type": "display_data",
          "data": {
            "image/png": "[encoded data removed]",
            "text/plain": [
              "<Figure size 72x72 with 1 Axes>"
            ]
          },
          "metadata": {
            "tags": []
          }
        },
        {
          "output_type": "stream",
          "text": [
            "Image After layer 1 Decoder\n"
          ],
          "name": "stdout"
        },
        {
          "output_type": "display_data",
          "data": {
            "image/png": "[encoded data removed]",
            "text/plain": [
              "<Figure size 72x72 with 1 Axes>"
            ]
          },
          "metadata": {
            "tags": []
          }
        },
        {
          "output_type": "stream",
          "text": [
            "Image After layer 2 Decoder\n"
          ],
          "name": "stdout"
        },
        {
          "output_type": "display_data",
          "data": {
            "image/png": "[encoded data removed]",
            "text/plain": [
              "<Figure size 72x72 with 1 Axes>"
            ]
          },
          "metadata": {
            "tags": []
          }
        }
      ]
    },
    {
      "cell_type": "code",
      "metadata": {
        "id": "uttx-rcTXifH",
        "colab_type": "code",
        "colab": {}
      },
      "source": [
        "# Building the encoder.\n",
        "def encoder(x):\n",
        "\n",
        "    # Encoder Hidden layer with sigmoid activation.\n",
        "    print(\"Original Images\")     \n",
        "    plt.figure(figsize=(n, n))\n",
        "    plt.imshow(x[0].numpy().reshape([28, 28]), origin=\"upper\", cmap=\"gray\")\n",
        "    plt.show()\n",
        "    \n",
        "    layer_1 = tf.nn.sigmoid(tf.add(tf.matmul(x, weights['encoder_h1']),\n",
        "                                   biases['encoder_b1']))\n",
        "    #print(\"Encoder layer_1\")\n",
        "    #plt.figure(figsize=(n, n))\n",
        "    #plt.imshow(layer_1, origin=\"upper\", cmap=\"gray\")\n",
        "\n",
        "    print(\"Image After layer 1 Encoder\")     \n",
        "    plt.figure(figsize=(n, n))\n",
        "    plt.imshow(layer_1[0].numpy().reshape([16, 8]), origin=\"upper\", cmap=\"gray\")\n",
        "    plt.show()    \n",
        "    \n",
        "    # Encoder Hidden layer with sigmoid activation.\n",
        "    layer_2 = tf.nn.sigmoid(tf.add(tf.matmul(layer_1, weights['encoder_h2']),\n",
        "                                   biases['encoder_b2']))\n",
        "    print(\"Image After layer 2 Encoder\")\n",
        "    plt.figure(figsize=(n, n))\n",
        "    plt.imshow(layer_2[0].numpy().reshape([8, 8]), origin=\"upper\", cmap=\"gray\")\n",
        "    plt.show()\n",
        "    return layer_2\n",
        "\n",
        "\n",
        "# Building the decoder.\n",
        "def decoder(x):\n",
        "    # Decoder Hidden layer with sigmoid activation.\n",
        "    layer_1 = tf.nn.sigmoid(tf.add(tf.matmul(x, weights['decoder_h1']),\n",
        "                                   biases['decoder_b1']))\n",
        "    print(\"Image After layer 1 Decoder\")     \n",
        "    plt.figure(figsize=(n, n))\n",
        "    plt.imshow(layer_1[0].numpy().reshape([16, 8]), origin=\"upper\", cmap=\"gray\")\n",
        "    plt.show() \n",
        "    # Decoder Hidden layer with sigmoid activation.\n",
        "    layer_2 = tf.nn.sigmoid(tf.add(tf.matmul(layer_1, weights['decoder_h2']),\n",
        "                                   biases['decoder_b2']))\n",
        "    print(\"Image After layer 2 Decoder\")     \n",
        "    plt.figure(figsize=(n, n))\n",
        "    plt.imshow(layer_2[0].numpy().reshape([28, 28]), origin=\"upper\", cmap=\"gray\")\n",
        "    plt.show()\n",
        "    return layer_2"
      ],
      "execution_count": 0,
      "outputs": []
    }
  ]
}