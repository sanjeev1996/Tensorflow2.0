{
  "nbformat": 4,
  "nbformat_minor": 0,
  "metadata": {
    "colab": {
      "name": "Tensorflow-autoencoder.ipynb",
      "provenance": [],
      "authorship_tag": "ABX9TyNQoXrbqYI1mcNJEwB9S7Wg",
      "include_colab_link": true
    },
    "kernelspec": {
      "name": "python3",
      "display_name": "Python 3"
    },
    "accelerator": "GPU"
  },
  "cells": [
    {
      "cell_type": "markdown",
      "metadata": {
        "id": "view-in-github",
        "colab_type": "text"
      },
      "source": [
        "<a href=\"https://colab.research.google.com/github/sanjeev1996/Tensorflow2.0/blob/master/Tensorflow_autoencoder.ipynb\" target=\"_parent\"><img src=\"https://colab.research.google.com/assets/colab-badge.svg\" alt=\"Open In Colab\"/></a>"
      ]
    },
    {
      "cell_type": "code",
      "metadata": {
        "id": "CXz27TtALUT3",
        "colab_type": "code",
        "colab": {}
      },
      "source": [
        "!pip install tensorflow==2.0.0"
      ],
      "execution_count": 0,
      "outputs": []
    },
    {
      "cell_type": "code",
      "metadata": {
        "id": "00ycWlsLONEb",
        "colab_type": "code",
        "colab": {
          "base_uri": "https://localhost:8080/",
          "height": 34
        },
        "outputId": "b1b16ffa-ec2c-4b1e-d57a-20805e4e6337"
      },
      "source": [
        "import tensorflow as tf\n",
        "import numpy as np\n",
        "from __future__ import absolute_import, division, print_function\n",
        "print(tf.__version__)"
      ],
      "execution_count": 1,
      "outputs": [
        {
          "output_type": "stream",
          "text": [
            "2.0.0\n"
          ],
          "name": "stdout"
        }
      ]
    },
    {
      "cell_type": "code",
      "metadata": {
        "id": "KllRL6KQOm-6",
        "colab_type": "code",
        "colab": {}
      },
      "source": [
        "# MNIST Dataset parameters.\n",
        "num_features = 784 # data features (img shape: 28*28).\n",
        "\n",
        "# Training parameters.\n",
        "learning_rate = 0.01\n",
        "training_steps = 20000\n",
        "batch_size = 256\n",
        "display_step = 1000\n",
        "\n",
        "# Network Parameters\n",
        "num_hidden_1 = 128 # 1st layer num features.\n",
        "num_hidden_2 = 64 # 2nd layer num features (the latent dim)."
      ],
      "execution_count": 0,
      "outputs": []
    },
    {
      "cell_type": "code",
      "metadata": {
        "id": "3uAqhsnPPTwN",
        "colab_type": "code",
        "outputId": "c21add4c-745b-45b6-a20a-38ea31628488",
        "colab": {
          "base_uri": "https://localhost:8080/",
          "height": 71
        }
      },
      "source": [
        "# Prepare MNIST data.\n",
        "from tensorflow.keras.datasets import mnist\n",
        "(x_train, y_train), (x_test, y_test) = mnist.load_data()\n",
        "# Convert to float32.\n",
        "x_train, x_test = x_train.astype(np.float32), x_test.astype(np.float32)\n",
        "# Flatten images to 1-D vector of 784 features (28*28).\n",
        "x_train, x_test = x_train.reshape([-1, num_features]), x_test.reshape([-1, num_features])\n",
        "# Normalize images value from [0, 255] to [0, 1].\n",
        "x_train, x_test = x_train / 255., x_test / 255."
      ],
      "execution_count": 3,
      "outputs": [
        {
          "output_type": "stream",
          "text": [
            "Downloading data from https://storage.googleapis.com/tensorflow/tf-keras-datasets/mnist.npz\n",
            "11493376/11490434 [==============================] - 0s 0us/step\n"
          ],
          "name": "stdout"
        }
      ]
    },
    {
      "cell_type": "code",
      "metadata": {
        "id": "uPBY6iVTTxd_",
        "colab_type": "code",
        "colab": {}
      },
      "source": [
        "# Use tf.data API to shuffle and batch data.\n",
        "train_data = tf.data.Dataset.from_tensor_slices((x_train, y_train))\n",
        "train_data = train_data.repeat().shuffle(10000).batch(batch_size).prefetch(1)\n",
        "\n",
        "test_data = tf.data.Dataset.from_tensor_slices((x_test, y_test))\n",
        "test_data = test_data.repeat().batch(batch_size).prefetch(1)"
      ],
      "execution_count": 0,
      "outputs": []
    },
    {
      "cell_type": "code",
      "metadata": {
        "id": "Vde17OJWZUFT",
        "colab_type": "code",
        "colab": {}
      },
      "source": [
        "# Store layers weight & bias\n",
        "\n",
        "# A random value generator to initialize weights.\n",
        "random_normal = tf.initializers.RandomNormal()\n",
        "\n",
        "weights = {\n",
        "    'encoder_h1': tf.Variable(random_normal([num_features, num_hidden_1])),\n",
        "    'encoder_h2': tf.Variable(random_normal([num_hidden_1, num_hidden_2])),\n",
        "    'decoder_h1': tf.Variable(random_normal([num_hidden_2, num_hidden_1])),\n",
        "    'decoder_h2': tf.Variable(random_normal([num_hidden_1, num_features])),\n",
        "}\n",
        "biases = {\n",
        "    'encoder_b1': tf.Variable(random_normal([num_hidden_1])),\n",
        "    'encoder_b2': tf.Variable(random_normal([num_hidden_2])),\n",
        "    'decoder_b1': tf.Variable(random_normal([num_hidden_1])),\n",
        "    'decoder_b2': tf.Variable(random_normal([num_features])),\n",
        "}"
      ],
      "execution_count": 0,
      "outputs": []
    },
    {
      "cell_type": "code",
      "metadata": {
        "id": "Nkt3OTvzVeQy",
        "colab_type": "code",
        "colab": {}
      },
      "source": [
        "weights['encoder_h1'].shape"
      ],
      "execution_count": 0,
      "outputs": []
    },
    {
      "cell_type": "code",
      "metadata": {
        "id": "Nlohc4iPfnze",
        "colab_type": "code",
        "colab": {}
      },
      "source": [
        "# Building the encoder.\n",
        "def encoder(x):\n",
        "    # Encoder Hidden layer with sigmoid activation.\n",
        "    layer_1 = tf.nn.sigmoid(tf.add(tf.matmul(x, weights['encoder_h1']),\n",
        "                                   biases['encoder_b1']))\n",
        "    # Encoder Hidden layer with sigmoid activation.\n",
        "    layer_2 = tf.nn.sigmoid(tf.add(tf.matmul(layer_1, weights['encoder_h2']),\n",
        "                                   biases['encoder_b2']))\n",
        "    return layer_2\n",
        "\n",
        "\n",
        "# Building the decoder.\n",
        "def decoder(x):\n",
        "    # Decoder Hidden layer with sigmoid activation.\n",
        "    layer_1 = tf.nn.sigmoid(tf.add(tf.matmul(x, weights['decoder_h1']),\n",
        "                                   biases['decoder_b1']))\n",
        "    # Decoder Hidden layer with sigmoid activation.\n",
        "    layer_2 = tf.nn.sigmoid(tf.add(tf.matmul(layer_1, weights['decoder_h2']),\n",
        "                                   biases['decoder_b2']))\n",
        "    return layer_2"
      ],
      "execution_count": 0,
      "outputs": []
    },
    {
      "cell_type": "code",
      "metadata": {
        "id": "L1bHolkAh-Go",
        "colab_type": "code",
        "colab": {}
      },
      "source": [
        "# Mean square loss between original images and reconstructed ones.\n",
        "def mean_square(reconstructed, original):\n",
        "    return tf.reduce_mean(tf.pow(original - reconstructed, 2))\n",
        "\n",
        "# Adam optimizer.\n",
        "optimizer = tf.optimizers.Adam(learning_rate=learning_rate)"
      ],
      "execution_count": 0,
      "outputs": []
    },
    {
      "cell_type": "code",
      "metadata": {
        "id": "vt3VBoCbjWn0",
        "colab_type": "code",
        "colab": {}
      },
      "source": [
        "# Optimization process. \n",
        "def run_optimization(x):\n",
        "    # Wrap computation inside a GradientTape for automatic differentiation.\n",
        "    with tf.GradientTape() as g:\n",
        "        reconstructed_image = decoder(encoder(x))\n",
        "        loss = mean_square(reconstructed_image, x)\n",
        "\n",
        "    # Variables to update, i.e. trainable variables.\n",
        "    trainable_variables = list(weights.values()) + list(biases.values())\n",
        "    \n",
        "    # Compute gradients.\n",
        "    gradients = g.gradient(loss, trainable_variables)\n",
        "    \n",
        "    # Update W and b following gradients.\n",
        "    optimizer.apply_gradients(zip(gradients, trainable_variables))\n",
        "    \n",
        "    return loss"
      ],
      "execution_count": 0,
      "outputs": []
    },
    {
      "cell_type": "code",
      "metadata": {
        "id": "JPyX9D5u9N0D",
        "colab_type": "code",
        "outputId": "de6584df-65d9-473c-9d14-079b0b91073f",
        "colab": {
          "base_uri": "https://localhost:8080/",
          "height": 374
        }
      },
      "source": [
        "# Run training for the given number of steps.\n",
        "for step, (batch_x, _) in enumerate(train_data.take(training_steps + 1)):\n",
        "    \n",
        "    # Run the optimization.\n",
        "    loss = run_optimization(batch_x)\n",
        "    \n",
        "    if step % display_step == 0:\n",
        "        print(\"step: %i, loss: %f\" % (step, loss))\n"
      ],
      "execution_count": 9,
      "outputs": [
        {
          "output_type": "stream",
          "text": [
            "step: 0, loss: 0.235434\n",
            "step: 1000, loss: 0.017293\n",
            "step: 2000, loss: 0.010808\n",
            "step: 3000, loss: 0.008756\n",
            "step: 4000, loss: 0.007371\n",
            "step: 5000, loss: 0.006834\n",
            "step: 6000, loss: 0.005841\n",
            "step: 7000, loss: 0.005292\n",
            "step: 8000, loss: 0.005483\n",
            "step: 9000, loss: 0.004917\n",
            "step: 10000, loss: 0.005016\n",
            "step: 11000, loss: 0.004489\n",
            "step: 12000, loss: 0.004428\n",
            "step: 13000, loss: 0.004712\n",
            "step: 14000, loss: 0.004281\n",
            "step: 15000, loss: 0.004195\n",
            "step: 16000, loss: 0.004110\n",
            "step: 17000, loss: 0.003988\n",
            "step: 18000, loss: 0.003889\n",
            "step: 19000, loss: 0.003664\n",
            "step: 20000, loss: 0.003783\n"
          ],
          "name": "stdout"
        }
      ]
    },
    {
      "cell_type": "code",
      "metadata": {
        "id": "JEE6VHXW95WC",
        "colab_type": "code",
        "outputId": "5ab3c1b1-6cdb-4013-fd1d-6a983e381dca",
        "colab": {
          "base_uri": "https://localhost:8080/",
          "height": 553
        }
      },
      "source": [
        "# Encode and decode images from test set and visualize their reconstruction.\n",
        "import matplotlib.pyplot as plt\n",
        "n = 4\n",
        "canvas_orig = np.empty((28 * n, 28 * n))\n",
        "canvas_recon = np.empty((28 * n, 28 * n))\n",
        "for i, (batch_x, _) in enumerate(test_data.take(n)):\n",
        "    # Encode and decode the digit image.\n",
        "    reconstructed_images = decoder(encoder(batch_x))\n",
        "    # Display original images.\n",
        "    for j in range(n):\n",
        "        # Draw the generated digits.\n",
        "        img = batch_x[j].numpy().reshape([28, 28])\n",
        "        canvas_orig[i * 28:(i + 1) * 28, j * 28:(j + 1) * 28] = img\n",
        "    # Display reconstructed images.\n",
        "    for j in range(n):\n",
        "        # Draw the generated digits.\n",
        "        reconstr_img = reconstructed_images[j].numpy().reshape([28, 28])\n",
        "        canvas_recon[i * 28:(i + 1) * 28, j * 28:(j + 1) * 28] = reconstr_img\n",
        "\n",
        "print(\"Original Images\")     \n",
        "plt.figure(figsize=(n, n))\n",
        "plt.imshow(canvas_orig, origin=\"upper\", cmap=\"gray\")\n",
        "plt.show()\n",
        "\n",
        "print(\"Reconstructed Images\")\n",
        "plt.figure(figsize=(n, n))\n",
        "plt.imshow(canvas_recon, origin=\"upper\", cmap=\"gray\")\n",
        "plt.show()"
      ],
      "execution_count": 11,
      "outputs": [
        {
          "output_type": "stream",
          "text": [
            "Original Images\n"
          ],
          "name": "stdout"
        },
        {
          "output_type": "display_data",
          "data": {
            "image/png": "[encoded data removed]",
            "text/plain": [
              "<Figure size 288x288 with 1 Axes>"
            ]
          },
          "metadata": {
            "tags": []
          }
        },
        {
          "output_type": "stream",
          "text": [
            "Reconstructed Images\n"
          ],
          "name": "stdout"
        },
        {
          "output_type": "display_data",
          "data": {
            "image/png": "[encoded data removed]",
            "text/plain": [
              "<Figure size 288x288 with 1 Axes>"
            ]
          },
          "metadata": {
            "tags": []
          }
        }
      ]
    }
  ]
}